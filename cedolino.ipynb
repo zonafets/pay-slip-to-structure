{
 "cells": [
  {
   "cell_type": "markdown",
   "id": "6db64d58",
   "metadata": {},
   "source": [
    "# Convert italian pay slip (cedolino paga) pdf to a structure"
   ]
  },
  {
   "cell_type": "code",
   "execution_count": 377,
   "id": "cd7ff852",
   "metadata": {},
   "outputs": [],
   "source": [
    "iname = 'cedolino.pdf'\n",
    "\n",
    "import cv2\n",
    "# pip install opencv-contrib-python\n",
    "from imutils import contours\n",
    "import imutils\n",
    "import numpy as np\n",
    "import pytesseract\n",
    "import re\n",
    "import string\n",
    "import time\n",
    "from matplotlib import pyplot as plt\n",
    "from pdf2image import convert_from_path\n",
    "from io import BytesIO\n",
    "from PIL import Image  # pip install Pillow\n",
    "from IPython.core.display import display, HTML\n",
    "import base64\n",
    "import ipyplot\n",
    "from difflib import SequenceMatcher"
   ]
  },
  {
   "cell_type": "code",
   "execution_count": 378,
   "id": "922ab161",
   "metadata": {},
   "outputs": [],
   "source": [
    "def resize(img, width = 300):\n",
    "    h= img.shape[0]\n",
    "    w= img.shape[1]\n",
    "    rw = width\n",
    "    if w<rw: rw = w\n",
    "    aratio = rw/w\n",
    "    # resized = cv2.resize(img,(rw,rh)) # ,interpolation=cv2.INTER_LANCZOS4)\n",
    "    resized = cv2.resize(img,None,fx=aratio,fy=aratio,interpolation=cv2.INTER_AREA)\n",
    "    return resized\n",
    "\n",
    "def show(img, title = None, width = 300):\n",
    "    if not title is None:\n",
    "        print(title)\n",
    "    resized = resize(img,width)\n",
    "    display(Image.fromarray(resized))\n"
   ]
  },
  {
   "cell_type": "code",
   "execution_count": 379,
   "id": "90d3bd91",
   "metadata": {},
   "outputs": [],
   "source": [
    "# very slow method\n",
    "def imshow(imageArray, name):\n",
    "     _, png = cv2.imencode('.png', imageArray)\n",
    "     encoded = base64.b64encode(png)\n",
    "     return HTML(data='''<img alt=\"{0}\" src=\"data:image/png;base64, {1}\"/>'''.format(name, encoded.decode('ascii')))"
   ]
  },
  {
   "cell_type": "code",
   "execution_count": 380,
   "id": "00936bb2",
   "metadata": {},
   "outputs": [],
   "source": [
    "def is_gray(img):\n",
    "    if len(img.shape) < 3: return True\n",
    "    if img.shape[2]  == 1: return True\n",
    "    b,g,r = img[:,:,0], img[:,:,1], img[:,:,2]\n",
    "    if (b==g).all() and (b==r).all(): return True\n",
    "    return False"
   ]
  },
  {
   "cell_type": "code",
   "execution_count": 381,
   "id": "2533161d",
   "metadata": {},
   "outputs": [],
   "source": [
    "def simple_crop(img):\n",
    "    if not is_gray(img):\n",
    "        gray = cv2.cvtColor(img, cv2.COLOR_BGR2GRAY)\n",
    "    else:\n",
    "        gray = img.copy()\n",
    "    gray = 255*(gray < 128).astype(np.uint8) # To invert the text to white\n",
    "    coords = cv2.findNonZero(gray) # Find all non-zero points (text)\n",
    "    x, y, w, h = cv2.boundingRect(coords) # Find minimum spanning bounding box\n",
    "    rect = img[y:y+h, x:x+w] # Crop the image - note we do this on the original image\n",
    "    return rect"
   ]
  },
  {
   "cell_type": "code",
   "execution_count": 382,
   "id": "5ada913e",
   "metadata": {},
   "outputs": [],
   "source": [
    "def dilation(src):\n",
    "    kernel = np.ones((8,8), np.uint8)\n",
    "    result = cv2.dilate(img,kernel,iterations=1)\n",
    "    return result\n",
    "\n",
    "def erosion(src):\n",
    "    kernel = np.ones((2,2),np.uint8)\n",
    "    result = cv2.erode(img,kernel,iterations=1)\n",
    "    return result"
   ]
  },
  {
   "cell_type": "code",
   "execution_count": 383,
   "id": "d7960bc5",
   "metadata": {},
   "outputs": [],
   "source": [
    "pages=convert_from_path(iname,dpi=600,poppler_path = r\"D:\\Program Files (x86)\\poppler-21.03.0\\Library\\bin\")\n",
    "\n",
    "with BytesIO() as f:\n",
    "\tpages[0].save(f,format=\"png\")\n",
    "\tf.seek(0)\n",
    "\tpdf=np.array(Image.open(f).convert('RGB'))"
   ]
  },
  {
   "cell_type": "code",
   "execution_count": 384,
   "id": "db016906",
   "metadata": {},
   "outputs": [
    {
     "ename": "NameError",
     "evalue": "name 'title' is not defined",
     "output_type": "error",
     "traceback": [
      "\u001b[1;31m---------------------------------------------------------------------------\u001b[0m",
      "\u001b[1;31mNameError\u001b[0m                                 Traceback (most recent call last)",
      "\u001b[1;32m<ipython-input-384-264c900156dc>\u001b[0m in \u001b[0;36m<module>\u001b[1;34m\u001b[0m\n\u001b[1;32m----> 1\u001b[1;33m \u001b[0mshow\u001b[0m\u001b[1;33m(\u001b[0m\u001b[0mpdf\u001b[0m\u001b[1;33m)\u001b[0m\u001b[1;33m\u001b[0m\u001b[1;33m\u001b[0m\u001b[0m\n\u001b[0m",
      "\u001b[1;32m<ipython-input-378-70e1a26bc3ce>\u001b[0m in \u001b[0;36mshow\u001b[1;34m(img, title, width)\u001b[0m\n\u001b[0;32m     14\u001b[0m \u001b[1;33m\u001b[0m\u001b[0m\n\u001b[0;32m     15\u001b[0m \u001b[1;32mdef\u001b[0m \u001b[0mshow\u001b[0m\u001b[1;33m(\u001b[0m\u001b[0mimg\u001b[0m\u001b[1;33m,\u001b[0m \u001b[0mtitle\u001b[0m \u001b[1;33m=\u001b[0m \u001b[1;32mNone\u001b[0m\u001b[1;33m,\u001b[0m \u001b[0mwidth\u001b[0m \u001b[1;33m=\u001b[0m \u001b[1;36m300\u001b[0m\u001b[1;33m)\u001b[0m\u001b[1;33m:\u001b[0m\u001b[1;33m\u001b[0m\u001b[1;33m\u001b[0m\u001b[0m\n\u001b[1;32m---> 16\u001b[1;33m     \u001b[0mresized\u001b[0m \u001b[1;33m=\u001b[0m \u001b[0mresize\u001b[0m\u001b[1;33m(\u001b[0m\u001b[0mimg\u001b[0m\u001b[1;33m,\u001b[0m\u001b[0mwidth\u001b[0m\u001b[1;33m)\u001b[0m\u001b[1;33m\u001b[0m\u001b[1;33m\u001b[0m\u001b[0m\n\u001b[0m\u001b[0;32m     17\u001b[0m     \u001b[0mdisplay\u001b[0m\u001b[1;33m(\u001b[0m\u001b[0mImage\u001b[0m\u001b[1;33m.\u001b[0m\u001b[0mfromarray\u001b[0m\u001b[1;33m(\u001b[0m\u001b[0mresized\u001b[0m\u001b[1;33m)\u001b[0m\u001b[1;33m)\u001b[0m\u001b[1;33m\u001b[0m\u001b[1;33m\u001b[0m\u001b[0m\n",
      "\u001b[1;32m<ipython-input-378-70e1a26bc3ce>\u001b[0m in \u001b[0;36mresize\u001b[1;34m(img, width)\u001b[0m\n\u001b[0;32m      5\u001b[0m     \u001b[1;32mif\u001b[0m \u001b[0mw\u001b[0m\u001b[1;33m<\u001b[0m\u001b[0mrw\u001b[0m\u001b[1;33m:\u001b[0m \u001b[0mrw\u001b[0m \u001b[1;33m=\u001b[0m \u001b[0mw\u001b[0m\u001b[1;33m\u001b[0m\u001b[1;33m\u001b[0m\u001b[0m\n\u001b[0;32m      6\u001b[0m     \u001b[0maratio\u001b[0m \u001b[1;33m=\u001b[0m \u001b[0mrw\u001b[0m\u001b[1;33m/\u001b[0m\u001b[0mw\u001b[0m\u001b[1;33m\u001b[0m\u001b[1;33m\u001b[0m\u001b[0m\n\u001b[1;32m----> 7\u001b[1;33m     \u001b[1;32mif\u001b[0m \u001b[0mtitle\u001b[0m \u001b[1;33m==\u001b[0m \u001b[1;34m\"$size\"\u001b[0m\u001b[1;33m:\u001b[0m\u001b[1;33m\u001b[0m\u001b[1;33m\u001b[0m\u001b[0m\n\u001b[0m\u001b[0;32m      8\u001b[0m         \u001b[0mprint\u001b[0m\u001b[1;33m(\u001b[0m\u001b[1;34m\"h,w,rh,rw:\"\u001b[0m\u001b[1;33m,\u001b[0m\u001b[1;33m(\u001b[0m\u001b[0mh\u001b[0m\u001b[1;33m,\u001b[0m\u001b[0mw\u001b[0m\u001b[1;33m,\u001b[0m\u001b[0mrh\u001b[0m\u001b[1;33m,\u001b[0m\u001b[0mrw\u001b[0m\u001b[1;33m)\u001b[0m\u001b[1;33m)\u001b[0m\u001b[1;33m\u001b[0m\u001b[1;33m\u001b[0m\u001b[0m\n\u001b[0;32m      9\u001b[0m     \u001b[1;32melif\u001b[0m \u001b[1;32mnot\u001b[0m \u001b[0mtitle\u001b[0m \u001b[1;32mis\u001b[0m \u001b[1;32mNone\u001b[0m\u001b[1;33m:\u001b[0m\u001b[1;33m\u001b[0m\u001b[1;33m\u001b[0m\u001b[0m\n",
      "\u001b[1;31mNameError\u001b[0m: name 'title' is not defined"
     ]
    }
   ],
   "source": [
    "show(pdf)"
   ]
  },
  {
   "cell_type": "code",
   "execution_count": null,
   "id": "03ae4bc4",
   "metadata": {},
   "outputs": [],
   "source": [
    "# Thresholding the image\n",
    "img = cv2.cvtColor(pdf, cv2.COLOR_BGR2GRAY)\n",
    "#(thresh, img_bin) = cv2.threshold(img, 128, 255,cv2.THRESH_BINARY|cv2.THRESH_OTSU)\n",
    "#img_bin = 255-img_bin\n",
    "blocksize = 21 # 35\n",
    "constant = 4 # 15\n",
    "max_value = 255 # 8 bits\n",
    "img_bin = cv2.adaptiveThreshold(img, max_value, cv2.ADAPTIVE_THRESH_GAUSSIAN_C, cv2.THRESH_BINARY_INV, blocksize, constant)"
   ]
  },
  {
   "cell_type": "code",
   "execution_count": null,
   "id": "5ad44722",
   "metadata": {},
   "outputs": [],
   "source": [
    "# Defining a kernel length\n",
    "kernel_length = np.array(img).shape[1]//80\n",
    " \n",
    "# A verticle kernel of (1 X kernel_length), which will detect all the verticle lines from the image.\n",
    "verticle_kernel = cv2.getStructuringElement(cv2.MORPH_RECT, (1, kernel_length))\n",
    "\n",
    "# A horizontal kernel of (kernel_length X 1), which will help to detect all the horizontal line from the image.\n",
    "hori_kernel = cv2.getStructuringElement(cv2.MORPH_RECT, (kernel_length, 1))\n",
    "\n",
    "# A kernel of (3 X 3) ones.\n",
    "kernel = cv2.getStructuringElement(cv2.MORPH_RECT, (3, 3))"
   ]
  },
  {
   "cell_type": "code",
   "execution_count": null,
   "id": "06e6ed50",
   "metadata": {
    "scrolled": false
   },
   "outputs": [],
   "source": [
    "# Morphological operation to detect vertical lines from an image\n",
    "img_temp1 = cv2.erode(img_bin, verticle_kernel, iterations=3)\n",
    "verticle_lines_img = cv2.dilate(img_temp1, verticle_kernel, iterations=3)\n",
    "\n",
    "# Morphological operation to detect horizontal lines from an image\n",
    "img_temp2 = cv2.erode(img_bin, hori_kernel, iterations=3)\n",
    "horizontal_lines_img = cv2.dilate(img_temp2, hori_kernel, iterations=3)\n",
    "\n",
    "# Weighting parameters, this will decide the quantity of an image to be added to make a new image.\n",
    "alpha = 0.5\n",
    "beta = 1.0 - alpha\n",
    "\n",
    "# This function helps to add two image with specific weight parameter to get a third image as summation of two image.\n",
    "img_final_bin = cv2.addWeighted(verticle_lines_img, alpha, horizontal_lines_img, beta, 0.0)\n",
    "img_final_bin = cv2.erode(~img_final_bin, kernel, iterations=2)\n",
    "(thresh, img_final_bin) = cv2.threshold(img_final_bin, 128,255, cv2.THRESH_BINARY | cv2.THRESH_OTSU)\n",
    "\n",
    "result = cv2.hconcat([verticle_lines_img, horizontal_lines_img, img_final_bin])\n",
    "show(result, width = 900)"
   ]
  },
  {
   "cell_type": "code",
   "execution_count": null,
   "id": "9a30d872",
   "metadata": {},
   "outputs": [],
   "source": [
    "# Find contours for image, which will detect all the boxes\n",
    "# the RETR_LIST doesn't match the desired inner retcangle where they overlap perfectly\n",
    "# looking as two adiacent rectangles instead of one the smaller as title of the container\n",
    "# nctrs, hierarchy = cv2.findContours(img_final_bin, cv2.RETR_LIST, cv2.CHAIN_APPROX_SIMPLE)\n",
    "nctrs, hierarchy = cv2.findContours(img_final_bin, cv2.RETR_TREE, cv2.CHAIN_APPROX_SIMPLE)\n",
    "\n",
    "# Sort all the contours by top to bottom.\n",
    "(nctrs, boundingBoxes) =  contours.sort_contours(nctrs, method=\"top-to-bottom\")\n",
    "\n",
    "# cv.drawContours(img, contours, -1, (0,255,0), 3)\n",
    "\n",
    "# show interested contours\n",
    "size = pdf.shape\n",
    "maxw = size[0]/2\n",
    "result = np.zeros(pdf.shape,dtype=np.uint8)\n",
    "result[:] = 255\n",
    "\n",
    "for b in boundingBoxes:\n",
    "    x,y,w,h = b\n",
    "    if w<maxw:\n",
    "        color = list(np.random.random(size=3) * 256)\n",
    "        cv2.rectangle(result, (x, y), (x + w, y + h), color, 4)\n",
    "    \n",
    "show(simple_crop(result),width = 900)"
   ]
  },
  {
   "cell_type": "code",
   "execution_count": null,
   "id": "d558dbbd",
   "metadata": {},
   "outputs": [],
   "source": [
    "def reduce_space(gray, pixel_value=255):\n",
    "    original = gray.copy()\n",
    "    blur = cv2.GaussianBlur(gray, (3,3), 0)\n",
    "    thresh = cv2.threshold(blur, 0, 255, cv2.THRESH_BINARY_INV + cv2.THRESH_OTSU)[1]\n",
    "    invert = 255 - thresh  \n",
    "    height, width = gray.shape[:2]\n",
    "\n",
    "    # Dilate with a horizontal kernel to connect text contours\n",
    "    kernel = cv2.getStructuringElement(cv2.MORPH_RECT, (10,2))\n",
    "    dilate = cv2.dilate(thresh, kernel, iterations=2)\n",
    "    \n",
    "    lines = []\n",
    "    cnts = cv2.findContours(dilate, cv2.RETR_EXTERNAL, cv2.CHAIN_APPROX_SIMPLE)\n",
    "    # cnts = cv2.findContours(dilate, cv2.RETR_TREE, cv2.CHAIN_APPROX_SIMPLE)\n",
    "    \n",
    "    # ################################################################ #\n",
    "    # it fail when there is a thin line that connect more rectangles\n",
    "    # so it dobule some content\n",
    "    # ################################################################ #\n",
    "    \n",
    "    cnts = cnts[0] if len(cnts) == 2 else cnts[1]\n",
    "    (cnts, _) = contours.sort_contours(cnts, method=\"top-to-bottom\")\n",
    "    for c in cnts:\n",
    "        x,y,w,h = cv2.boundingRect(c)\n",
    "        cv2.rectangle(gray, (0, y), (width, y+h), (36,255,12), 2)\n",
    "        line = original[y:y+h, 0:width]\n",
    "        # line = cv2.cvtColor(line, cv2.COLOR_BGR2GRAY)\n",
    "        lines.append(line)\n",
    "        show(line)\n",
    "    \n",
    "    # Append white space in between each line\n",
    "    space = np.ones((1, width), dtype=np.uint8) * 255\n",
    "    result = np.zeros((0, width), dtype=np.uint8)\n",
    "    result = np.concatenate((result, space), axis=0)\n",
    "    for line in lines:\n",
    "        if np.mean(line) != 255: # if not empty\n",
    "            result = np.concatenate((result, line), axis=0)\n",
    "            result = np.concatenate((result, space), axis=0)\n",
    "    \n",
    "    return result"
   ]
  },
  {
   "cell_type": "code",
   "execution_count": null,
   "id": "947ac8fd",
   "metadata": {},
   "outputs": [],
   "source": [
    "def remove_white_lines(img, pixel_value=255):\n",
    "    if not is_gray(img):\n",
    "        gray = cv2.cvtColor(img, cv2.COLOR_BGR2GRAY)\n",
    "    else:\n",
    "        gray = img.copy()\n",
    "    crop_rows = gray[~np.all(gray == pixel_value, axis=1), :]\n",
    "    cropped_image = crop_rows[:, ~np.all(crop_rows == pixel_value, axis=0)]\n",
    "    return cropped_image"
   ]
  },
  {
   "cell_type": "markdown",
   "id": "175095fe",
   "metadata": {},
   "source": [
    "\"get_one_image\" is not used because tesseract does a worst job even if it is faster"
   ]
  },
  {
   "cell_type": "code",
   "execution_count": null,
   "id": "be3e0d9a",
   "metadata": {},
   "outputs": [],
   "source": [
    "def get_one_image(img_list, padding = 50):\n",
    "    \n",
    "        max_width = []\n",
    "        max_height = 0\n",
    "        for img in img_list:\n",
    "            max_width.append(img.shape[1])\n",
    "            max_height += img.shape[0] + padding\n",
    "        w = np.max(max_width)\n",
    "        h = max_height\n",
    "\n",
    "        # create a new array with a size large enough to contain all the images\n",
    "        final_image = np.zeros((h, w), dtype=np.uint8)\n",
    "        final_image[:] = 255\n",
    "        \n",
    "        # add a dashed line to separate images\n",
    "        if padding!=0:\n",
    "            pad = np.ones((padding, w), dtype=np.uint8) * 255\n",
    "            cv2.putText(pad, '----------------', (0, 35), cv2.FONT_HERSHEY_SCRIPT_COMPLEX, 1, (0,0,0), 2)\n",
    "\n",
    "        current_y = 0  # keep track of where your current image was last placed in the y coordinate\n",
    "        idx = 0\n",
    "        for image in img_list:\n",
    "            idx+=1\n",
    "            # add an image to the final array and increment the y coordinate\n",
    "            final_image[current_y:current_y + image.shape[0], :image.shape[1]] = image\n",
    "            current_y += image.shape[0] \n",
    "            if padding!=0:\n",
    "                final_image[current_y:current_y + padding, :pad.shape[1]] = pad\n",
    "                current_y += padding\n",
    "           \n",
    "        return final_image"
   ]
  },
  {
   "cell_type": "code",
   "execution_count": null,
   "id": "af0e892c",
   "metadata": {
    "scrolled": false
   },
   "outputs": [],
   "source": [
    "img_list = []\n",
    "bordersize = 10\n",
    "gray = cv2.cvtColor(pdf, cv2.COLOR_BGR2GRAY)\n",
    "for c in nctrs:\n",
    "    # Returns the location and width,height for every contour\n",
    "    x, y, w, h = cv2.boundingRect(c)\n",
    "    if (w < maxw and w>0 and h>0):\n",
    "        new_img = gray[y:y+h, x:x+w]\n",
    "        #(thresh, bw_img) = cv2.threshold(new_img, 127, 255,cv2.THRESH_BINARY)\n",
    "        bw_img = cv2.adaptiveThreshold(\n",
    "            new_img, max_value, cv2.ADAPTIVE_THRESH_GAUSSIAN_C, cv2.THRESH_BINARY, \n",
    "            blocksize, constant\n",
    "        )\n",
    "        if np.mean(bw_img) != 255: # if not empty\n",
    "            bordered = np.zeros((bw_img.shape[0] + bordersize,bw_img.shape[1] + bordersize) ,dtype=np.uint8)\n",
    "            bordered[:] = 255\n",
    "            x = y = int(bordersize/2)\n",
    "            bordered[y:y+h, x:x+w] = bw_img\n",
    "            img_list.append(bordered)\n",
    "\n",
    "if len(img_list) == 0: print(\"No images added\")"
   ]
  },
  {
   "cell_type": "code",
   "execution_count": null,
   "id": "654fad0c",
   "metadata": {
    "scrolled": false
   },
   "outputs": [],
   "source": [
    "# for img in img_list: show(img)\n",
    "# final = get_one_image(img_list, 0); show( final )\n",
    "# txt=normalize(pytesseract.image_to_string(final, lang='ita'))\n",
    "# print(txt)\n",
    "# ipyplot.plot_images(img_list,img_width = 100) # this give an error"
   ]
  },
  {
   "cell_type": "code",
   "execution_count": null,
   "id": "9bec59dd",
   "metadata": {},
   "outputs": [],
   "source": [
    "regex = re.compile('[^A-Z0-9\\-/,.%€ \\r\\n]')\n",
    "def normalize(s):\n",
    "    txt = re.sub(regex,'',s).replace(\"\\n\\n\",\"\\n\").replace(\"  \",\" \")\n",
    "    # strings = txt.split(\"\\n\")\n",
    "    strings = \"\".join([s for s in txt.strip().splitlines(True) if s.strip()])\n",
    "    return strings"
   ]
  },
  {
   "cell_type": "code",
   "execution_count": null,
   "id": "52160d59",
   "metadata": {
    "scrolled": false
   },
   "outputs": [],
   "source": [
    "custom_oem_psm_config = r'' #--oem 0' # --psm 6'\n",
    "html = \"<table>\"\n",
    "for img in img_list:\n",
    "    txt=normalize(pytesseract.image_to_string(img, lang='ita', config=custom_oem_psm_config))\n",
    "    # show(img)\n",
    "    add = False\n",
    "    if txt != \"\":\n",
    "        add = True\n",
    "        \n",
    "    else:\n",
    "        \n",
    "        imgd = dilation(img)\n",
    "        txt=normalize(pytesseract.image_to_string(imgd, lang='ita', config=custom_oem_psm_config))\n",
    "        \n",
    "        if txt != \"\":\n",
    "            \n",
    "            add =True\n",
    "            \n",
    "        else:\n",
    "            \n",
    "            imge = erosion(img)\n",
    "            txt=normalize(pytesseract.image_to_string(imge, lang='ita', config=custom_oem_psm_config))\n",
    "            if txt != \"\": add = True\n",
    "                \n",
    "    if add and txt!=\"\" and txt!=\"%\":\n",
    "        html += '<tr><td>'\n",
    "        oimg = simple_crop(img)\n",
    "        if oimg.shape[0]==0 or oimg.shape[1]==0: oimg = img\n",
    "        oimg = resize(remove_white_lines(oimg),width=200)\n",
    "        _, png = cv2.imencode('.png', oimg)\n",
    "        encoded = base64.b64encode(png)\n",
    "        height, width = oimg.shape[:2]\n",
    "        if width>height: \n",
    "            width=\"200px\";height=\"auto\"            \n",
    "        else:\n",
    "            width=\"auto\";height=\"100px\"\n",
    "        html += '<img style=\"width:{0};height:{1}\" src=\"data:image/png;base64, {2}\"/>'.format(width,height,encoded.decode('ascii'))\n",
    "        html += '</td><td>{0}</td></tr>'.format(txt.replace(\"\\n\",\"<br>\"))\n",
    "            \n",
    "html += '</table>'\n",
    "display(HTML(html))"
   ]
  },
  {
   "cell_type": "code",
   "execution_count": null,
   "id": "10a18f57",
   "metadata": {},
   "outputs": [],
   "source": []
  }
 ],
 "metadata": {
  "kernelspec": {
   "display_name": "Python 3",
   "language": "python",
   "name": "python3"
  },
  "language_info": {
   "codemirror_mode": {
    "name": "ipython",
    "version": 3
   },
   "file_extension": ".py",
   "mimetype": "text/x-python",
   "name": "python",
   "nbconvert_exporter": "python",
   "pygments_lexer": "ipython3",
   "version": "3.8.7"
  }
 },
 "nbformat": 4,
 "nbformat_minor": 5
}
